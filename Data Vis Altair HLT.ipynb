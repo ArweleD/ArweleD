{
 "cells": [
  {
   "cell_type": "markdown",
   "metadata": {
    "scrolled": true
   },
   "source": [
    "## Graph of Acceleration against Horsepower"
   ]
  },
  {
   "cell_type": "code",
   "execution_count": null,
   "metadata": {},
   "outputs": [
    {
     "name": "stdout",
     "output_type": "stream",
     "text": [
      "Requirement already satisfied: altair in c:\\users\\arwel\\anaconda3\\lib\\site-packages (4.1.0)\n",
      "Requirement already satisfied: pandas>=0.18 in c:\\users\\arwel\\anaconda3\\lib\\site-packages (from altair) (1.1.3)\n",
      "Requirement already satisfied: jsonschema in c:\\users\\arwel\\anaconda3\\lib\\site-packages (from altair) (3.2.0)\n",
      "Requirement already satisfied: entrypoints in c:\\users\\arwel\\anaconda3\\lib\\site-packages (from altair) (0.3)\n",
      "Requirement already satisfied: jinja2 in c:\\users\\arwel\\anaconda3\\lib\\site-packages (from altair) (2.11.2)\n",
      "Requirement already satisfied: toolz in c:\\users\\arwel\\anaconda3\\lib\\site-packages (from altair) (0.11.1)\n",
      "Requirement already satisfied: numpy in c:\\users\\arwel\\anaconda3\\lib\\site-packages (from altair) (1.19.2)\n",
      "Requirement already satisfied: python-dateutil>=2.7.3 in c:\\users\\arwel\\anaconda3\\lib\\site-packages (from pandas>=0.18->altair) (2.8.1)\n",
      "Requirement already satisfied: pytz>=2017.2 in c:\\users\\arwel\\anaconda3\\lib\\site-packages (from pandas>=0.18->altair) (2020.1)\n",
      "Requirement already satisfied: setuptools in c:\\users\\arwel\\anaconda3\\lib\\site-packages (from jsonschema->altair) (50.3.1.post20201107)\n",
      "Requirement already satisfied: six>=1.11.0 in c:\\users\\arwel\\anaconda3\\lib\\site-packages (from jsonschema->altair) (1.15.0)\n",
      "Requirement already satisfied: pyrsistent>=0.14.0 in c:\\users\\arwel\\anaconda3\\lib\\site-packages (from jsonschema->altair) (0.17.3)\n",
      "Requirement already satisfied: attrs>=17.4.0 in c:\\users\\arwel\\anaconda3\\lib\\site-packages (from jsonschema->altair) (20.3.0)\n",
      "Requirement already satisfied: MarkupSafe>=0.23 in c:\\users\\arwel\\anaconda3\\lib\\site-packages (from jinja2->altair) (1.1.1)\n",
      "Requirement already satisfied: vega_datasets in c:\\users\\arwel\\anaconda3\\lib\\site-packages (0.9.0)\n",
      "Requirement already satisfied: pandas in c:\\users\\arwel\\anaconda3\\lib\\site-packages (from vega_datasets) (1.1.3)\n",
      "Requirement already satisfied: numpy>=1.15.4 in c:\\users\\arwel\\anaconda3\\lib\\site-packages (from pandas->vega_datasets) (1.19.2)\n",
      "Requirement already satisfied: python-dateutil>=2.7.3 in c:\\users\\arwel\\anaconda3\\lib\\site-packages (from pandas->vega_datasets) (2.8.1)\n",
      "Requirement already satisfied: pytz>=2017.2 in c:\\users\\arwel\\anaconda3\\lib\\site-packages (from pandas->vega_datasets) (2020.1)\n",
      "Requirement already satisfied: six>=1.5 in c:\\users\\arwel\\anaconda3\\lib\\site-packages (from python-dateutil>=2.7.3->pandas->vega_datasets) (1.15.0)\n",
      "Displaying chart at http://localhost:23115/\n"
     ]
    }
   ],
   "source": [
    "!pip install altair\n",
    "!pip install vega_datasets\n",
    "import altair as alt\n",
    "import pandas as pd\n",
    "from vega_datasets import data\n",
    "\n",
    "cars = data.cars()\n",
    "\n",
    "selection = alt.selection_single()\n",
    "\n",
    "point = alt.Chart(cars).mark_point().encode(\n",
    "         y = \"Acceleration\",\n",
    "         x =  \"Horsepower\",\n",
    "         color = alt.condition(selection, \"Origin\",alt.value(\"grey\")),\n",
    "         tooltip = \"Name\"\n",
    ").add_selection(selection)\n",
    "\n",
    "point.show()"
   ]
  },
  {
   "cell_type": "markdown",
   "metadata": {},
   "source": [
    "##  Interactive graph showing link between pokemon type and base stat total"
   ]
  },
  {
   "cell_type": "code",
   "execution_count": null,
   "metadata": {},
   "outputs": [],
   "source": [
    "!pip install altair\n",
    "!pip install vega_datasets\n",
    "import altair as alt\n",
    "import pandas as pd\n",
    "\n",
    "csv_p = \"https://raw.githubusercontent.com/n2cholas/dsc-workshops/master/Intro_to_Interactive_Data_Viz_with_Altair/pokemon-data-cleaned.csv\"\n",
    "df = pd.read_csv(csv_p)\n",
    "\n",
    "interval = alt.selection_interval(encodings=[\"x\"])\n",
    "\n",
    "point = alt.Chart(df).mark_point().encode(\n",
    "        x = \"Base Stat Total\",\n",
    "        y = \"Num Moves\",\n",
    "        color = alt.condition(interval,\"Type 1\",alt.value(\"lightgrey\")),\n",
    "        tooltip = \"Name\"\n",
    "        \n",
    ").properties(\n",
    "        selection = interval\n",
    ")\n",
    "\n",
    "bar = alt.Chart(df).mark_bar().encode( \n",
    "       x = \"average(Base Stat Total)\",\n",
    "       y = \"Type 1\",\n",
    "       color = \"Type 1\"\n",
    ").transform_filter(\n",
    "   interval\n",
    ")\n",
    "chart = alt.vconcat(point,bar)\n",
    "chart.show("
   ]
  }
 ],
 "metadata": {
  "kernelspec": {
   "display_name": "Python 3",
   "language": "python",
   "name": "python3"
  },
  "language_info": {
   "codemirror_mode": {
    "name": "ipython",
    "version": 3
   },
   "file_extension": ".py",
   "mimetype": "text/x-python",
   "name": "python",
   "nbconvert_exporter": "python",
   "pygments_lexer": "ipython3",
   "version": "3.8.5"
  }
 },
 "nbformat": 4,
 "nbformat_minor": 4
}
