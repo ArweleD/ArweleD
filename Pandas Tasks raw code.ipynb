{
 "cells": [
  {
   "cell_type": "code",
   "execution_count": 3,
   "source": [
    "## Task 1\r\n",
    "import pandas as pd\r\n",
    "\r\n",
    "data = pd.read_csv(\"Holiday destinations.csv\")\r\n",
    "print(data.shape)"
   ],
   "outputs": [
    {
     "output_type": "stream",
     "name": "stdout",
     "text": [
      "(15, 5)\n"
     ]
    }
   ],
   "metadata": {}
  },
  {
   "cell_type": "code",
   "execution_count": 12,
   "source": [
    "## Task 2\r\n",
    "data = pd.read_csv(\"Holiday destinations.csv\")\r\n",
    "rows3_8 = data.iloc[3:8]\r\n",
    "print(rows3_8)\r\n",
    "\r\n"
   ],
   "outputs": [
    {
     "output_type": "stream",
     "name": "stdout",
     "text": [
      "  Destination  Score  Avg Hotel star  All-inclusive Most visited city\n",
      "3     Croatia      9               3             19             Split\n",
      "4     Nigeria      6               2             11             Lagos\n",
      "5     Germany      6               4             40            Munich\n",
      "6         USA      7               4            135             Miami\n",
      "7      Mexico      8               3             55       Mexico City\n"
     ]
    }
   ],
   "metadata": {}
  },
  {
   "cell_type": "code",
   "execution_count": 13,
   "source": [
    "## Task 3\r\n",
    "all_Inclusive_mean= data[\"All-inclusive\"].mean()\r\n",
    "print(\"The mean amount of all inclusive hotels is\", all_Inclusive_mean)"
   ],
   "outputs": [
    {
     "output_type": "stream",
     "name": "stdout",
     "text": [
      "The mean amount of all inclusive hotels is 29.6\n"
     ]
    }
   ],
   "metadata": {}
  },
  {
   "cell_type": "code",
   "execution_count": 14,
   "source": [
    "## Task 4\r\n",
    "\r\n",
    "minScore = data[\"Score\"] == data[\"Score\"].min()\r\n",
    "print(\"The countries with the lowest score are\")\r\n",
    "data[minScore]\r\n"
   ],
   "outputs": [
    {
     "output_type": "stream",
     "name": "stdout",
     "text": [
      "The countries with the lowest score are\n"
     ]
    },
    {
     "output_type": "execute_result",
     "data": {
      "text/html": [
       "<div>\n",
       "<style scoped>\n",
       "    .dataframe tbody tr th:only-of-type {\n",
       "        vertical-align: middle;\n",
       "    }\n",
       "\n",
       "    .dataframe tbody tr th {\n",
       "        vertical-align: top;\n",
       "    }\n",
       "\n",
       "    .dataframe thead th {\n",
       "        text-align: right;\n",
       "    }\n",
       "</style>\n",
       "<table border=\"1\" class=\"dataframe\">\n",
       "  <thead>\n",
       "    <tr style=\"text-align: right;\">\n",
       "      <th></th>\n",
       "      <th>Destination</th>\n",
       "      <th>Score</th>\n",
       "      <th>Avg Hotel star</th>\n",
       "      <th>All-inclusive</th>\n",
       "      <th>Most visited city</th>\n",
       "    </tr>\n",
       "  </thead>\n",
       "  <tbody>\n",
       "    <tr>\n",
       "      <th>10</th>\n",
       "      <td>Ukraine</td>\n",
       "      <td>5</td>\n",
       "      <td>2</td>\n",
       "      <td>12</td>\n",
       "      <td>Kiev</td>\n",
       "    </tr>\n",
       "    <tr>\n",
       "      <th>12</th>\n",
       "      <td>Sweden</td>\n",
       "      <td>5</td>\n",
       "      <td>4</td>\n",
       "      <td>20</td>\n",
       "      <td>Stockholm</td>\n",
       "    </tr>\n",
       "  </tbody>\n",
       "</table>\n",
       "</div>"
      ],
      "text/plain": [
       "   Destination  Score  Avg Hotel star  All-inclusive Most visited city\n",
       "10     Ukraine      5               2             12              Kiev\n",
       "12      Sweden      5               4             20         Stockholm"
      ]
     },
     "metadata": {},
     "execution_count": 14
    }
   ],
   "metadata": {}
  },
  {
   "cell_type": "code",
   "execution_count": 15,
   "source": [
    "## Task 5\r\n",
    "maxScore = data[\"Score\"] == data[\"Score\"].max()\r\n",
    "print(\"The countries with the highest score are\")\r\n",
    "data[maxScore]"
   ],
   "outputs": [
    {
     "output_type": "stream",
     "name": "stdout",
     "text": [
      "The countries with the highest score are\n"
     ]
    },
    {
     "output_type": "execute_result",
     "data": {
      "text/html": [
       "<div>\n",
       "<style scoped>\n",
       "    .dataframe tbody tr th:only-of-type {\n",
       "        vertical-align: middle;\n",
       "    }\n",
       "\n",
       "    .dataframe tbody tr th {\n",
       "        vertical-align: top;\n",
       "    }\n",
       "\n",
       "    .dataframe thead th {\n",
       "        text-align: right;\n",
       "    }\n",
       "</style>\n",
       "<table border=\"1\" class=\"dataframe\">\n",
       "  <thead>\n",
       "    <tr style=\"text-align: right;\">\n",
       "      <th></th>\n",
       "      <th>Destination</th>\n",
       "      <th>Score</th>\n",
       "      <th>Avg Hotel star</th>\n",
       "      <th>All-inclusive</th>\n",
       "      <th>Most visited city</th>\n",
       "    </tr>\n",
       "  </thead>\n",
       "  <tbody>\n",
       "    <tr>\n",
       "      <th>3</th>\n",
       "      <td>Croatia</td>\n",
       "      <td>9</td>\n",
       "      <td>3</td>\n",
       "      <td>19</td>\n",
       "      <td>Split</td>\n",
       "    </tr>\n",
       "  </tbody>\n",
       "</table>\n",
       "</div>"
      ],
      "text/plain": [
       "  Destination  Score  Avg Hotel star  All-inclusive Most visited city\n",
       "3     Croatia      9               3             19             Split"
      ]
     },
     "metadata": {},
     "execution_count": 15
    }
   ],
   "metadata": {}
  },
  {
   "cell_type": "code",
   "execution_count": 16,
   "source": [
    "## Task 6 \r\n",
    "\r\n",
    "score_Above_8 = data[(data.Score > 8)]\r\n",
    "print(score_Above_8 )"
   ],
   "outputs": [
    {
     "output_type": "stream",
     "name": "stdout",
     "text": [
      "  Destination  Score  Avg Hotel star  All-inclusive Most visited city\n",
      "3     Croatia      9               3             19             Split\n"
     ]
    }
   ],
   "metadata": {}
  },
  {
   "cell_type": "code",
   "execution_count": 17,
   "source": [
    "## Task 7 \r\n",
    "\r\n",
    "score_Above_8 = data[(data.Score < 2)]\r\n",
    "# No score below 2"
   ],
   "outputs": [],
   "metadata": {}
  },
  {
   "cell_type": "code",
   "execution_count": 18,
   "source": [
    "## Task 8\r\n",
    "correlation = data[\"Score\"].corr(data[\"All-inclusive\"])\r\n",
    "print(correlation)"
   ],
   "outputs": [
    {
     "output_type": "stream",
     "name": "stdout",
     "text": [
      "0.16096332480918488\n"
     ]
    }
   ],
   "metadata": {}
  },
  {
   "cell_type": "code",
   "execution_count": 19,
   "source": [
    "## Task 9\r\n",
    "import matplotlib.pyplot as plt\r\n",
    "plt.plot(data[\"Destination\"], data[\"Score\"], 'ro--')\r\n",
    "plt.xlabel(\"Destinations\")\r\n",
    "plt.ylabel(\"Score\")\r\n",
    "plt.tick_params(axis='x', which='major', labelsize=5)\r\n",
    "\r\n",
    "plt.show()"
   ],
   "outputs": [
    {
     "output_type": "display_data",
     "data": {
      "image/png": "[encoded data removed]",
      "text/plain": [
       "<Figure size 432x288 with 1 Axes>"
      ]
     },
     "metadata": {
      "needs_background": "light"
     }
    }
   ],
   "metadata": {}
  }
 ],
 "metadata": {
  "orig_nbformat": 4,
  "language_info": {
   "name": "python",
   "version": "3.8.5",
   "mimetype": "text/x-python",
   "codemirror_mode": {
    "name": "ipython",
    "version": 3
   },
   "pygments_lexer": "ipython3",
   "nbconvert_exporter": "python",
   "file_extension": ".py"
  },
  "kernelspec": {
   "name": "python3",
   "display_name": "Python 3.8.5 32-bit ('base': conda)"
  },
  "interpreter": {
   "hash": "5167675495b89dcc56136c879a5ebd0f3ff0dc51454e37171160d6457e718a24"
  }
 },
 "nbformat": 4,
 "nbformat_minor": 2
}