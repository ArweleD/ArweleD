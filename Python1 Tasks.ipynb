{
 "cells": [
  {
   "cell_type": "code",
   "execution_count": 2,
   "source": [
    "## Task 1\r\n",
    "import random\r\n",
    "random_number = random.randint(1,10)\r\n",
    "user_name = input(\"What is your name? \")\r\n",
    "guess = int(input(\"Guess a number between 1 and 10 \"))\r\n",
    "if guess == random_number:\r\n",
    "    print(user_name, \"guessed Correctly!\")\r\n",
    "else:\r\n",
    "    print(user_name, \"guessed incorrectly, the correct number is:\", random_number)  "
   ],
   "outputs": [
    {
     "output_type": "stream",
     "name": "stdout",
     "text": [
      "Arwel guessed incorrectly, the correct number is: 8\n"
     ]
    }
   ],
   "metadata": {}
  },
  {
   "cell_type": "code",
   "execution_count": 5,
   "source": [
    "## Task 2\r\n",
    "\r\n",
    "favourite_Number = int(input(\"What is your favourite number between 1 and 100? \"))\r\n",
    "\r\n",
    "if favourite_Number == 1:\r\n",
    "    print(\"Why was 6 scared of 7? Because 7 8 9\")\r\n",
    "elif favourite_Number == 100:\r\n",
    "    print(\"What’s the best thing about Switzerland? I don’t know, but the flag is a big plus.\")\r\n",
    "else:\r\n",
    "    print(\"I invented a new word! Plagiarism!\")"
   ],
   "outputs": [
    {
     "output_type": "stream",
     "name": "stdout",
     "text": [
      "I invented a new word! Plagiarism!\n"
     ]
    }
   ],
   "metadata": {}
  },
  {
   "cell_type": "code",
   "execution_count": 6,
   "source": [
    "## Task 3\r\n",
    "\r\n",
    "starter = input(\"What is your favourite starter\")\r\n",
    "main = input(\"What is your favourite main\")\r\n",
    "dessert = input(\"What is your favourite dessert\")\r\n",
    "drink = input(\"What is your favourite drink\")\r\n",
    "\r\n",
    "print(\"Your favourite meal is\", starter, main, dessert, \"with a glass of\", drink)"
   ],
   "outputs": [
    {
     "output_type": "stream",
     "name": "stdout",
     "text": [
      "Your favourite meal is  fish cakes pasta apple juice with a glass of apple juice\n"
     ]
    }
   ],
   "metadata": {}
  },
  {
   "cell_type": "code",
   "execution_count": 7,
   "source": [
    "## Task 4\r\n",
    "\r\n",
    "motorbike_Cost = 2000\r\n",
    "\r\n",
    "while motorbike_Cost > 1000:\r\n",
    "   motorbike_Cost *= 0.9\r\n",
    "   print(motorbike_Cost)\r\n",
    "\r\n"
   ],
   "outputs": [
    {
     "output_type": "stream",
     "name": "stdout",
     "text": [
      "1800.0\n",
      "1620.0\n",
      "1458.0\n",
      "1312.2\n",
      "1180.98\n",
      "1062.882\n",
      "956.5938000000001\n"
     ]
    }
   ],
   "metadata": {}
  },
  {
   "cell_type": "code",
   "execution_count": 11,
   "source": [
    "## Task 5\r\n",
    "\r\n",
    "number1 = int(input(\"Input a number: \"))\r\n",
    "number2 = int(input(\"Input a second number\"))\r\n",
    "\r\n",
    "operator = input(\"Enter a if you want to add the numbers together, Enter b if you want to substract, Enter c if you want to multiply the number, Enter d if you want to divide the numbers, enter e if you want number 1 to the power of number 2\")\r\n",
    "\r\n",
    "if operator == \"a\":\r\n",
    "    print(number1 + number2)\r\n",
    "elif operator == \"b\":\r\n",
    "    print(number1 - number2)\r\n",
    "elif operator == \"c\": \r\n",
    "    print(number1*number2)\r\n",
    "elif operator == \"d\":\r\n",
    "    print(number1/number2)\r\n",
    "elif operator == \"e\":\r\n",
    "    print(number1**number2)\r\n"
   ],
   "outputs": [
    {
     "output_type": "stream",
     "name": "stdout",
     "text": [
      "64\n"
     ]
    }
   ],
   "metadata": {}
  }
 ],
 "metadata": {
  "orig_nbformat": 4,
  "language_info": {
   "name": "python",
   "version": "3.8.5",
   "mimetype": "text/x-python",
   "codemirror_mode": {
    "name": "ipython",
    "version": 3
   },
   "pygments_lexer": "ipython3",
   "nbconvert_exporter": "python",
   "file_extension": ".py"
  },
  "kernelspec": {
   "name": "python3",
   "display_name": "Python 3.8.5 32-bit ('base': conda)"
  },
  "interpreter": {
   "hash": "5167675495b89dcc56136c879a5ebd0f3ff0dc51454e37171160d6457e718a24"
  }
 },
 "nbformat": 4,
 "nbformat_minor": 2
}