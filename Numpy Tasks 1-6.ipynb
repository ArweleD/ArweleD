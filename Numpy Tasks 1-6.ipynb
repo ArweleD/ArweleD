{
 "cells": [
  {
   "cell_type": "code",
   "execution_count": 56,
   "source": [
    "## 1 - Create an array from 0-9\r\n",
    "import numpy as np \r\n",
    "\r\n",
    "array = np.arange(10)\r\n",
    "print(array)"
   ],
   "outputs": [
    {
     "output_type": "stream",
     "name": "stdout",
     "text": [
      "[0 1 2 3 4 5 6 7 8 9]\n"
     ]
    }
   ],
   "metadata": {}
  },
  {
   "cell_type": "code",
   "execution_count": 57,
   "source": [
    "## 2 - Create a 3×3 NumPy array of all Boolean value Trues\r\n",
    "import numpy as np \r\n",
    "array = np.full((3,3), True, dtype=bool)\r\n",
    "print(array)"
   ],
   "outputs": [
    {
     "output_type": "stream",
     "name": "stdout",
     "text": [
      "[[ True  True  True]\n",
      " [ True  True  True]\n",
      " [ True  True  True]]\n"
     ]
    }
   ],
   "metadata": {}
  },
  {
   "cell_type": "code",
   "execution_count": 62,
   "source": [
    "## 3 - Extract all odd numbers from array of 1-10\r\n",
    "import numpy as np\r\n",
    "\r\n",
    "arr = np.arange(1,11)\r\n",
    "\r\n",
    "odd = np.extract(arr%2== 1 , arr)\r\n",
    "print(odd)"
   ],
   "outputs": [
    {
     "output_type": "stream",
     "name": "stdout",
     "text": [
      "[1 3 5 7 9]\n"
     ]
    }
   ],
   "metadata": {}
  },
  {
   "cell_type": "code",
   "execution_count": 63,
   "source": [
    "## 4 - Replace all odd numbers in an array of 1-10 with the value -1\r\n",
    "\r\n",
    "import numpy as np\r\n",
    "\r\n",
    "arr = np.arange(1,11)\r\n",
    "\r\n",
    "new_arr = np.where(arr%2 == 1 , -1 , arr)\r\n",
    "print(new_arr)\r\n",
    "\r\n"
   ],
   "outputs": [
    {
     "output_type": "stream",
     "name": "stdout",
     "text": [
      "[-1  2 -1  4 -1  6 -1  8 -1 10]\n"
     ]
    }
   ],
   "metadata": {}
  },
  {
   "cell_type": "code",
   "execution_count": 64,
   "source": [
    "## 5 - Convert a 1D array to a 2D array with 2 rows\r\n",
    "\r\n",
    "import numpy as np\r\n",
    "\r\n",
    "arr = np.arange(6)\r\n",
    "\r\n",
    "new_arr = arr.reshape(2,3)\r\n",
    "\r\n",
    "print(new_arr)"
   ],
   "outputs": [
    {
     "output_type": "stream",
     "name": "stdout",
     "text": [
      "[[0 1 2]\n",
      " [3 4 5]]\n"
     ]
    }
   ],
   "metadata": {}
  },
  {
   "cell_type": "code",
   "execution_count": 23,
   "source": [
    "## 6 - Create two arrays a and b, stack these two arrays vertically use the  np.dot and np.sum to calculate totals\r\n",
    "\r\n",
    "import numpy as np\r\n",
    "\r\n",
    "arr1 = np.arange(15,30,2)\r\n",
    "arr2 = np.arange(1,9)\r\n",
    "np.vstack((arr1,arr2))  \r\n",
    "np.dot(arr1,arr2)\r\n",
    "arr = np.sum(arr)\r\n",
    "print(arr)\r\n",
    "\r\n",
    "\r\n"
   ],
   "outputs": [
    {
     "output_type": "stream",
     "name": "stdout",
     "text": [
      "876\n"
     ]
    }
   ],
   "metadata": {}
  }
 ],
 "metadata": {
  "orig_nbformat": 4,
  "language_info": {
   "name": "python",
   "version": "3.8.5",
   "mimetype": "text/x-python",
   "codemirror_mode": {
    "name": "ipython",
    "version": 3
   },
   "pygments_lexer": "ipython3",
   "nbconvert_exporter": "python",
   "file_extension": ".py"
  },
  "kernelspec": {
   "name": "python3",
   "display_name": "Python 3.8.5 32-bit ('base': conda)"
  },
  "interpreter": {
   "hash": "5167675495b89dcc56136c879a5ebd0f3ff0dc51454e37171160d6457e718a24"
  }
 },
 "nbformat": 4,
 "nbformat_minor": 2
}